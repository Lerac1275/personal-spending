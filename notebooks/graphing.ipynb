{
 "cells": [
  {
   "cell_type": "code",
   "execution_count": 13,
   "metadata": {},
   "outputs": [],
   "source": [
    "import pandas as pd\n",
    "import plotly.express as px\n",
    "import plotly.graph_objects as go\n",
    "import importlib\n",
    "import sys\n",
    "import pytz\n",
    "import datetime\n",
    "from dateutil.relativedelta import relativedelta\n",
    "import importlib"
   ]
  },
  {
   "cell_type": "code",
   "execution_count": 59,
   "metadata": {},
   "outputs": [],
   "source": [
    "if \"../\" not in sys.path:\n",
    "    sys.path.append(\"../\")\n",
    "import appUtilities as au"
   ]
  },
  {
   "cell_type": "code",
   "execution_count": 67,
   "metadata": {},
   "outputs": [],
   "source": [
    "# Load in dummy data\n",
    "df = pd.read_pickle('../data/dummy_data.pkl')"
   ]
  },
  {
   "cell_type": "code",
   "execution_count": 76,
   "metadata": {},
   "outputs": [
    {
     "data": {
      "text/plain": [
       "Timestamp('2024-03-16 00:00:00')"
      ]
     },
     "execution_count": 76,
     "metadata": {},
     "output_type": "execute_result"
    }
   ],
   "source": [
    "# Get Singapore's timezone\n",
    "sg_timezone = pytz.timezone('Asia/Singapore')\n",
    "\n",
    "# Get the current date and time in Singapore's timezone\n",
    "current_date_sg = datetime.datetime.now(sg_timezone)\n",
    "\n",
    "pd.to_datetime(current_date_sg.date() + pd.DateOffset(days=1))"
   ]
  },
  {
   "cell_type": "code",
   "execution_count": 74,
   "metadata": {},
   "outputs": [
    {
     "data": {
      "text/plain": [
       "Timestamp('2024-03-15 00:00:00')"
      ]
     },
     "execution_count": 74,
     "metadata": {},
     "output_type": "execute_result"
    }
   ],
   "source": [
    "pd.to_datetime(n_months_agox)"
   ]
  },
  {
   "cell_type": "code",
   "execution_count": 66,
   "metadata": {},
   "outputs": [],
   "source": [
    "df.to_pickle(\"../data/dummy_data.pkl\")"
   ]
  },
  {
   "cell_type": "markdown",
   "metadata": {},
   "source": [
    "# Recreating main page \n",
    "\n",
    "Mainlanding page of last 5 months\n",
    "\n",
    "\n",
    "| Jan | Feb | March | April | May | Type\n",
    "| :-- | :-- | :-- | :-- | :-- | --- | \n",
    "| $1,000 | $3,430 | $500 | $600 | $5,000 | **Total**\n",
    "| $500 | $1,000 | $300 | $122 | $1,212 | **Dining**\n",
    ". . .\n",
    "\n",
    "Can include sparklines as well in st.dataframe"
   ]
  },
  {
   "cell_type": "code",
   "execution_count": 4,
   "metadata": {},
   "outputs": [
    {
     "data": {
      "text/html": [
       "<div>\n",
       "<style scoped>\n",
       "    .dataframe tbody tr th:only-of-type {\n",
       "        vertical-align: middle;\n",
       "    }\n",
       "\n",
       "    .dataframe tbody tr th {\n",
       "        vertical-align: top;\n",
       "    }\n",
       "\n",
       "    .dataframe thead th {\n",
       "        text-align: right;\n",
       "    }\n",
       "</style>\n",
       "<table border=\"1\" class=\"dataframe\">\n",
       "  <thead>\n",
       "    <tr style=\"text-align: right;\">\n",
       "      <th></th>\n",
       "      <th>Date</th>\n",
       "      <th>Item</th>\n",
       "      <th>Type</th>\n",
       "      <th>Subtype</th>\n",
       "      <th>Location</th>\n",
       "      <th>Payment Method</th>\n",
       "      <th>Amount</th>\n",
       "      <th>ShopBack?</th>\n",
       "      <th>Notes</th>\n",
       "      <th>month</th>\n",
       "      <th>week_start</th>\n",
       "    </tr>\n",
       "  </thead>\n",
       "  <tbody>\n",
       "    <tr>\n",
       "      <th>0</th>\n",
       "      <td>2023-03-17</td>\n",
       "      <td>Prawn Noodles</td>\n",
       "      <td>Dining</td>\n",
       "      <td>Lunch</td>\n",
       "      <td>Work</td>\n",
       "      <td>PayLah</td>\n",
       "      <td>7.5</td>\n",
       "      <td>No</td>\n",
       "      <td>NaN</td>\n",
       "      <td>2023-03-01</td>\n",
       "      <td>2023-03-13</td>\n",
       "    </tr>\n",
       "  </tbody>\n",
       "</table>\n",
       "</div>"
      ],
      "text/plain": [
       "        Date           Item    Type Subtype Location Payment Method  Amount  \\\n",
       "0 2023-03-17  Prawn Noodles  Dining   Lunch     Work         PayLah     7.5   \n",
       "\n",
       "  ShopBack? Notes      month week_start  \n",
       "0        No   NaN 2023-03-01 2023-03-13  "
      ]
     },
     "execution_count": 4,
     "metadata": {},
     "output_type": "execute_result"
    }
   ],
   "source": [
    "df.head(1)"
   ]
  },
  {
   "cell_type": "code",
   "execution_count": 5,
   "metadata": {},
   "outputs": [
    {
     "name": "stdout",
     "output_type": "stream",
     "text": [
      "2023-10-01\n"
     ]
    }
   ],
   "source": [
    "# Get Singapore's timezone\n",
    "sg_timezone = pytz.timezone('Asia/Singapore')\n",
    "\n",
    "# Get the current date and time in Singapore's timezone\n",
    "# current_date_sg = datetime.now(sg_timezone)\n",
    "current_date_sg = datetime(2024,2,1 , tzinfo=sg_timezone)\n",
    "\n",
    "# Subtract 5 months from the current date\n",
    "four_months_ago = current_date_sg - pd.DateOffset(months=4)\n",
    "# Set the day of the resulting date to 1 to get the first day of the month\n",
    "first_day_of_month_4_months_ago = four_months_ago.replace(day=1).date()\n",
    "print(first_day_of_month_4_months_ago)"
   ]
  },
  {
   "cell_type": "code",
   "execution_count": 6,
   "metadata": {},
   "outputs": [
    {
     "data": {
      "text/plain": [
       "(364, 11)"
      ]
     },
     "execution_count": 6,
     "metadata": {},
     "output_type": "execute_result"
    }
   ],
   "source": [
    "df.loc[df['Date']>=pd.to_datetime(first_day_of_month_4_months_ago)].shape"
   ]
  },
  {
   "cell_type": "code",
   "execution_count": 7,
   "metadata": {},
   "outputs": [],
   "source": [
    "# # Get data for the month of october\n",
    "# month_df = au.get_month(df, month='2023-10-01')\n",
    "# # Get data for onw week in october\n",
    "# week_df = au.get_week(df, week='2023-10-23')"
   ]
  },
  {
   "cell_type": "code",
   "execution_count": 8,
   "metadata": {},
   "outputs": [],
   "source": [
    "# filter entries\n",
    "tdf = df.loc[df['Date']>= pd.to_datetime(first_day_of_month_4_months_ago)]\n",
    "# Group by month\n",
    "tdf = tdf.groupby(['month', 'Type']).Amount.sum()\n",
    "# Pivot long to wide\n",
    "tdf = tdf.unstack(level=0)\n",
    "# Reset the name\n",
    "tdf.columns.name = None\n",
    "\n",
    "# Sum values for each column\n",
    "column_sums = tdf.sum()\n",
    "column_sums.name = \"Total\" # Set the name of the series\n",
    "\n",
    "# Append sums as a new row to the DataFrame\n",
    "tdf = pd.concat([pd.DataFrame(column_sums).T, tdf]) #Add the column sums so they appear at the top\n",
    "\n",
    "# Set the index name\n",
    "tdf.index.name = \"Type\"\n",
    "\n",
    "# Change the date columns\n",
    "tdf.columns =  [pd.to_datetime(col).strftime(\"%b'%y\") for col in tdf.columns.values]\n",
    "\n",
    "# Fill in missing values\n",
    "tdf = tdf.fillna(0)"
   ]
  },
  {
   "cell_type": "code",
   "execution_count": 9,
   "metadata": {},
   "outputs": [
    {
     "data": {
      "text/html": [
       "<div>\n",
       "<style scoped>\n",
       "    .dataframe tbody tr th:only-of-type {\n",
       "        vertical-align: middle;\n",
       "    }\n",
       "\n",
       "    .dataframe tbody tr th {\n",
       "        vertical-align: top;\n",
       "    }\n",
       "\n",
       "    .dataframe thead th {\n",
       "        text-align: right;\n",
       "    }\n",
       "</style>\n",
       "<table border=\"1\" class=\"dataframe\">\n",
       "  <thead>\n",
       "    <tr style=\"text-align: right;\">\n",
       "      <th></th>\n",
       "      <th>Oct'23</th>\n",
       "      <th>Nov'23</th>\n",
       "      <th>Dec'23</th>\n",
       "      <th>Jan'24</th>\n",
       "      <th>Feb'24</th>\n",
       "    </tr>\n",
       "    <tr>\n",
       "      <th>Type</th>\n",
       "      <th></th>\n",
       "      <th></th>\n",
       "      <th></th>\n",
       "      <th></th>\n",
       "      <th></th>\n",
       "    </tr>\n",
       "  </thead>\n",
       "  <tbody>\n",
       "    <tr>\n",
       "      <th>Total</th>\n",
       "      <td>2134.35</td>\n",
       "      <td>1242.90</td>\n",
       "      <td>2352.45</td>\n",
       "      <td>2272.89</td>\n",
       "      <td>1702.26</td>\n",
       "    </tr>\n",
       "    <tr>\n",
       "      <th>Dining</th>\n",
       "      <td>835.62</td>\n",
       "      <td>939.09</td>\n",
       "      <td>943.45</td>\n",
       "      <td>782.85</td>\n",
       "      <td>674.86</td>\n",
       "    </tr>\n",
       "    <tr>\n",
       "      <th>Healthcare</th>\n",
       "      <td>14.00</td>\n",
       "      <td>37.40</td>\n",
       "      <td>118.60</td>\n",
       "      <td>47.72</td>\n",
       "      <td>21.00</td>\n",
       "    </tr>\n",
       "    <tr>\n",
       "      <th>Leisure</th>\n",
       "      <td>115.00</td>\n",
       "      <td>37.16</td>\n",
       "      <td>347.00</td>\n",
       "      <td>0.00</td>\n",
       "      <td>37.50</td>\n",
       "    </tr>\n",
       "    <tr>\n",
       "      <th>Shopping</th>\n",
       "      <td>663.81</td>\n",
       "      <td>229.25</td>\n",
       "      <td>139.90</td>\n",
       "      <td>15.00</td>\n",
       "      <td>253.00</td>\n",
       "    </tr>\n",
       "    <tr>\n",
       "      <th>Transport</th>\n",
       "      <td>29.22</td>\n",
       "      <td>0.00</td>\n",
       "      <td>50.00</td>\n",
       "      <td>704.42</td>\n",
       "      <td>0.00</td>\n",
       "    </tr>\n",
       "    <tr>\n",
       "      <th>Travel</th>\n",
       "      <td>476.70</td>\n",
       "      <td>0.00</td>\n",
       "      <td>753.50</td>\n",
       "      <td>722.90</td>\n",
       "      <td>715.90</td>\n",
       "    </tr>\n",
       "  </tbody>\n",
       "</table>\n",
       "</div>"
      ],
      "text/plain": [
       "             Oct'23   Nov'23   Dec'23   Jan'24   Feb'24\n",
       "Type                                                   \n",
       "Total       2134.35  1242.90  2352.45  2272.89  1702.26\n",
       "Dining       835.62   939.09   943.45   782.85   674.86\n",
       "Healthcare    14.00    37.40   118.60    47.72    21.00\n",
       "Leisure      115.00    37.16   347.00     0.00    37.50\n",
       "Shopping     663.81   229.25   139.90    15.00   253.00\n",
       "Transport     29.22     0.00    50.00   704.42     0.00\n",
       "Travel       476.70     0.00   753.50   722.90   715.90"
      ]
     },
     "execution_count": 9,
     "metadata": {},
     "output_type": "execute_result"
    }
   ],
   "source": [
    "tdf"
   ]
  },
  {
   "cell_type": "code",
   "execution_count": 10,
   "metadata": {},
   "outputs": [
    {
     "data": {
      "text/plain": [
       "Oct'23    2134.35\n",
       "Nov'23    1242.90\n",
       "Dec'23    2352.45\n",
       "Jan'24    2272.89\n",
       "Feb'24    1702.26\n",
       "Name: Total, dtype: float64"
      ]
     },
     "execution_count": 10,
     "metadata": {},
     "output_type": "execute_result"
    }
   ],
   "source": [
    "q = tdf.iloc[0]\n",
    "q"
   ]
  },
  {
   "cell_type": "code",
   "execution_count": 78,
   "metadata": {},
   "outputs": [
    {
     "data": {
      "text/plain": [
       "<module 'appUtilities' from '/Users/carelchay/git_projects/personal-spending/notebooks/../appUtilities.py'>"
      ]
     },
     "execution_count": 78,
     "metadata": {},
     "output_type": "execute_result"
    }
   ],
   "source": [
    "importlib.reload(au)"
   ]
  },
  {
   "cell_type": "markdown",
   "metadata": {},
   "source": [
    "## Styling"
   ]
  },
  {
   "cell_type": "code",
   "execution_count": 79,
   "metadata": {},
   "outputs": [],
   "source": [
    "tdf = au.create_main_table(df)"
   ]
  },
  {
   "cell_type": "code",
   "execution_count": 80,
   "metadata": {},
   "outputs": [
    {
     "data": {
      "text/html": [
       "<style type=\"text/css\">\n",
       "#T_634d6_row0_col0, #T_634d6_row1_col0, #T_634d6_row2_col0, #T_634d6_row3_col0, #T_634d6_row4_col0, #T_634d6_row5_col0 {\n",
       "  background-color: grey;\n",
       "}\n",
       "#T_634d6_row0_col1, #T_634d6_row1_col3, #T_634d6_row2_col1, #T_634d6_row2_col3, #T_634d6_row3_col1, #T_634d6_row3_col3, #T_634d6_row4_col1, #T_634d6_row5_col1, #T_634d6_row5_col3 {\n",
       "  background-color: red;\n",
       "}\n",
       "#T_634d6_row0_col2, #T_634d6_row0_col3, #T_634d6_row2_col2, #T_634d6_row3_col2, #T_634d6_row4_col2, #T_634d6_row4_col3, #T_634d6_row5_col2 {\n",
       "  background-color: green;\n",
       "}\n",
       "#T_634d6_row1_col1, #T_634d6_row1_col2 {\n",
       "  background-color: blue;\n",
       "}\n",
       "</style>\n",
       "<table id=\"T_634d6\">\n",
       "  <thead>\n",
       "    <tr>\n",
       "      <th class=\"blank level0\" >&nbsp;</th>\n",
       "      <th id=\"T_634d6_level0_col0\" class=\"col_heading level0 col0\" >Dec'23</th>\n",
       "      <th id=\"T_634d6_level0_col1\" class=\"col_heading level0 col1\" >Jan'24</th>\n",
       "      <th id=\"T_634d6_level0_col2\" class=\"col_heading level0 col2\" >Feb'24</th>\n",
       "      <th id=\"T_634d6_level0_col3\" class=\"col_heading level0 col3\" >Mar'24</th>\n",
       "    </tr>\n",
       "    <tr>\n",
       "      <th class=\"index_name level0\" >Type</th>\n",
       "      <th class=\"blank col0\" >&nbsp;</th>\n",
       "      <th class=\"blank col1\" >&nbsp;</th>\n",
       "      <th class=\"blank col2\" >&nbsp;</th>\n",
       "      <th class=\"blank col3\" >&nbsp;</th>\n",
       "    </tr>\n",
       "  </thead>\n",
       "  <tbody>\n",
       "    <tr>\n",
       "      <th id=\"T_634d6_level0_row0\" class=\"row_heading level0 row0\" >Dining</th>\n",
       "      <td id=\"T_634d6_row0_col0\" class=\"data row0 col0\" >$793.52</td>\n",
       "      <td id=\"T_634d6_row0_col1\" class=\"data row0 col1\" >$1,042.18</td>\n",
       "      <td id=\"T_634d6_row0_col2\" class=\"data row0 col2\" >$885.49</td>\n",
       "      <td id=\"T_634d6_row0_col3\" class=\"data row0 col3\" >$604.48</td>\n",
       "    </tr>\n",
       "    <tr>\n",
       "      <th id=\"T_634d6_level0_row1\" class=\"row_heading level0 row1\" >Healthcare</th>\n",
       "      <td id=\"T_634d6_row1_col0\" class=\"data row1 col0\" >$0.00</td>\n",
       "      <td id=\"T_634d6_row1_col1\" class=\"data row1 col1\" >$0.00</td>\n",
       "      <td id=\"T_634d6_row1_col2\" class=\"data row1 col2\" >$0.00</td>\n",
       "      <td id=\"T_634d6_row1_col3\" class=\"data row1 col3\" >$93.79</td>\n",
       "    </tr>\n",
       "    <tr>\n",
       "      <th id=\"T_634d6_level0_row2\" class=\"row_heading level0 row2\" >Leisure</th>\n",
       "      <td id=\"T_634d6_row2_col0\" class=\"data row2 col0\" >$19.23</td>\n",
       "      <td id=\"T_634d6_row2_col1\" class=\"data row2 col1\" >$58.87</td>\n",
       "      <td id=\"T_634d6_row2_col2\" class=\"data row2 col2\" >$32.41</td>\n",
       "      <td id=\"T_634d6_row2_col3\" class=\"data row2 col3\" >$35.08</td>\n",
       "    </tr>\n",
       "    <tr>\n",
       "      <th id=\"T_634d6_level0_row3\" class=\"row_heading level0 row3\" >Shopping</th>\n",
       "      <td id=\"T_634d6_row3_col0\" class=\"data row3 col0\" >$436.92</td>\n",
       "      <td id=\"T_634d6_row3_col1\" class=\"data row3 col1\" >$1,208.33</td>\n",
       "      <td id=\"T_634d6_row3_col2\" class=\"data row3 col2\" >$240.48</td>\n",
       "      <td id=\"T_634d6_row3_col3\" class=\"data row3 col3\" >$742.04</td>\n",
       "    </tr>\n",
       "    <tr>\n",
       "      <th id=\"T_634d6_level0_row4\" class=\"row_heading level0 row4\" >Transport</th>\n",
       "      <td id=\"T_634d6_row4_col0\" class=\"data row4 col0\" >$37.54</td>\n",
       "      <td id=\"T_634d6_row4_col1\" class=\"data row4 col1\" >$297.60</td>\n",
       "      <td id=\"T_634d6_row4_col2\" class=\"data row4 col2\" >$41.78</td>\n",
       "      <td id=\"T_634d6_row4_col3\" class=\"data row4 col3\" >$0.00</td>\n",
       "    </tr>\n",
       "    <tr>\n",
       "      <th id=\"T_634d6_level0_row5\" class=\"row_heading level0 row5\" >Total</th>\n",
       "      <td id=\"T_634d6_row5_col0\" class=\"data row5 col0\" >$1,287.21</td>\n",
       "      <td id=\"T_634d6_row5_col1\" class=\"data row5 col1\" >$2,606.98</td>\n",
       "      <td id=\"T_634d6_row5_col2\" class=\"data row5 col2\" >$1,200.16</td>\n",
       "      <td id=\"T_634d6_row5_col3\" class=\"data row5 col3\" >$1,475.39</td>\n",
       "    </tr>\n",
       "  </tbody>\n",
       "</table>\n"
      ],
      "text/plain": [
       "<pandas.io.formats.style.Styler at 0x12c8a9ca0>"
      ]
     },
     "execution_count": 80,
     "metadata": {},
     "output_type": "execute_result"
    }
   ],
   "source": [
    "tdf"
   ]
  },
  {
   "cell_type": "markdown",
   "metadata": {},
   "source": [
    "# Pie Chart\n",
    "\n",
    "Generate a pie chart at the `Type` level for the given period\n"
   ]
  },
  {
   "cell_type": "code",
   "execution_count": 86,
   "metadata": {},
   "outputs": [],
   "source": [
    "tdf = df.loc[(df.month>= au.get_current_month())\n",
    "            & (df.Date<au.get_endoff_day())]"
   ]
  },
  {
   "cell_type": "code",
   "execution_count": 90,
   "metadata": {},
   "outputs": [
    {
     "data": {
      "text/html": [
       "<div>\n",
       "<style scoped>\n",
       "    .dataframe tbody tr th:only-of-type {\n",
       "        vertical-align: middle;\n",
       "    }\n",
       "\n",
       "    .dataframe tbody tr th {\n",
       "        vertical-align: top;\n",
       "    }\n",
       "\n",
       "    .dataframe thead th {\n",
       "        text-align: right;\n",
       "    }\n",
       "</style>\n",
       "<table border=\"1\" class=\"dataframe\">\n",
       "  <thead>\n",
       "    <tr style=\"text-align: right;\">\n",
       "      <th></th>\n",
       "      <th>Type</th>\n",
       "      <th>total</th>\n",
       "    </tr>\n",
       "  </thead>\n",
       "  <tbody>\n",
       "    <tr>\n",
       "      <th>0</th>\n",
       "      <td>Dining</td>\n",
       "      <td>565.07</td>\n",
       "    </tr>\n",
       "    <tr>\n",
       "      <th>1</th>\n",
       "      <td>Healthcare</td>\n",
       "      <td>93.79</td>\n",
       "    </tr>\n",
       "    <tr>\n",
       "      <th>2</th>\n",
       "      <td>Leisure</td>\n",
       "      <td>25.23</td>\n",
       "    </tr>\n",
       "    <tr>\n",
       "      <th>3</th>\n",
       "      <td>Shopping</td>\n",
       "      <td>639.63</td>\n",
       "    </tr>\n",
       "  </tbody>\n",
       "</table>\n",
       "</div>"
      ],
      "text/plain": [
       "         Type   total\n",
       "0      Dining  565.07\n",
       "1  Healthcare   93.79\n",
       "2     Leisure   25.23\n",
       "3    Shopping  639.63"
      ]
     },
     "execution_count": 90,
     "metadata": {},
     "output_type": "execute_result"
    }
   ],
   "source": [
    "sum_df = tdf.groupby('Type').agg(\n",
    "    total=pd.NamedAgg(column='Amount', aggfunc='sum')\n",
    ").reset_index().sort_values(by='Type')\n",
    "sum_df"
   ]
  },
  {
   "cell_type": "code",
   "execution_count": 111,
   "metadata": {},
   "outputs": [],
   "source": [
    "def pie_chart_most_recent(df:pd.DataFrame):\n",
    "    \"\"\"\n",
    "    Makes a pie chart of spending for the most recent month\n",
    "    \"\"\"\n",
    "    tdf = df.loc[(df.month>= au.get_current_month())\n",
    "            & (df.Date<au.get_endoff_day())]\n",
    "    tdf = tdf.groupby('Type').agg(\n",
    "        total=pd.NamedAgg(column='Amount', aggfunc='sum')\n",
    "    ).reset_index().sort_values(by='Type')\n",
    "\n",
    "    # Create a donut chart using Plotly Graph Objects\n",
    "    fig = go.Figure()\n",
    "    values = sum_df.total.values\n",
    "    labels = sum_df.Type.values\n",
    "    fig.add_trace(go.Pie(\n",
    "        labels=labels,\n",
    "        values=values,\n",
    "        hole=0.5,  # Set the hole parameter to create a donut chart\n",
    "        marker=dict(colors=['red', 'green', 'blue', 'orange'])  # You can customize colors if needed\n",
    "    ))\n",
    "    total_spending = sum(values)\n",
    "    fig.update_layout(\n",
    "        # title='Donut Chart Example',\n",
    "        annotations=[dict(text=f'${total_spending:,.0f}', x=0.5, y=0.5, font_size=20, showarrow=False)]\n",
    "        , legend= dict(x = 0, y=-0.1, orientation='h')\n",
    "    )\n",
    "\n",
    "    return fig"
   ]
  },
  {
   "cell_type": "code",
   "execution_count": 112,
   "metadata": {},
   "outputs": [],
   "source": [
    "f = pie_chart_most_recent(df)"
   ]
  },
  {
   "cell_type": "code",
   "execution_count": 113,
   "metadata": {},
   "outputs": [
    {
     "data": {
      "application/vnd.plotly.v1+json": {
       "config": {
        "plotlyServerURL": "https://plot.ly"
       },
       "data": [
        {
         "hole": 0.5,
         "labels": [
          "Dining",
          "Healthcare",
          "Leisure",
          "Shopping"
         ],
         "marker": {
          "colors": [
           "red",
           "green",
           "blue",
           "orange"
          ]
         },
         "type": "pie",
         "values": [
          565.0699999999999,
          93.79,
          25.23,
          639.63
         ]
        }
       ],
       "layout": {
        "annotations": [
         {
          "font": {
           "size": 20
          },
          "showarrow": false,
          "text": "$1,324",
          "x": 0.5,
          "y": 0.5
         }
        ],
        "legend": {
         "orientation": "h",
         "x": -0.05,
         "y": -0.1
        },
        "template": {
         "data": {
          "candlestick": [
           {
            "decreasing": {
             "line": {
              "color": "#000033"
             }
            },
            "increasing": {
             "line": {
              "color": "#000032"
             }
            },
            "type": "candlestick"
           }
          ],
          "contour": [
           {
            "colorscale": [
             [
              0,
              "#000011"
             ],
             [
              0.1111111111111111,
              "#000012"
             ],
             [
              0.2222222222222222,
              "#000013"
             ],
             [
              0.3333333333333333,
              "#000014"
             ],
             [
              0.4444444444444444,
              "#000015"
             ],
             [
              0.5555555555555556,
              "#000016"
             ],
             [
              0.6666666666666666,
              "#000017"
             ],
             [
              0.7777777777777778,
              "#000018"
             ],
             [
              0.8888888888888888,
              "#000019"
             ],
             [
              1,
              "#000020"
             ]
            ],
            "type": "contour"
           }
          ],
          "contourcarpet": [
           {
            "colorscale": [
             [
              0,
              "#000011"
             ],
             [
              0.1111111111111111,
              "#000012"
             ],
             [
              0.2222222222222222,
              "#000013"
             ],
             [
              0.3333333333333333,
              "#000014"
             ],
             [
              0.4444444444444444,
              "#000015"
             ],
             [
              0.5555555555555556,
              "#000016"
             ],
             [
              0.6666666666666666,
              "#000017"
             ],
             [
              0.7777777777777778,
              "#000018"
             ],
             [
              0.8888888888888888,
              "#000019"
             ],
             [
              1,
              "#000020"
             ]
            ],
            "type": "contourcarpet"
           }
          ],
          "heatmap": [
           {
            "colorscale": [
             [
              0,
              "#000011"
             ],
             [
              0.1111111111111111,
              "#000012"
             ],
             [
              0.2222222222222222,
              "#000013"
             ],
             [
              0.3333333333333333,
              "#000014"
             ],
             [
              0.4444444444444444,
              "#000015"
             ],
             [
              0.5555555555555556,
              "#000016"
             ],
             [
              0.6666666666666666,
              "#000017"
             ],
             [
              0.7777777777777778,
              "#000018"
             ],
             [
              0.8888888888888888,
              "#000019"
             ],
             [
              1,
              "#000020"
             ]
            ],
            "type": "heatmap"
           }
          ],
          "histogram2d": [
           {
            "colorscale": [
             [
              0,
              "#000011"
             ],
             [
              0.1111111111111111,
              "#000012"
             ],
             [
              0.2222222222222222,
              "#000013"
             ],
             [
              0.3333333333333333,
              "#000014"
             ],
             [
              0.4444444444444444,
              "#000015"
             ],
             [
              0.5555555555555556,
              "#000016"
             ],
             [
              0.6666666666666666,
              "#000017"
             ],
             [
              0.7777777777777778,
              "#000018"
             ],
             [
              0.8888888888888888,
              "#000019"
             ],
             [
              1,
              "#000020"
             ]
            ],
            "type": "histogram2d"
           }
          ],
          "icicle": [
           {
            "textfont": {
             "color": "white"
            },
            "type": "icicle"
           }
          ],
          "sankey": [
           {
            "textfont": {
             "color": "#000036"
            },
            "type": "sankey"
           }
          ],
          "scatter": [
           {
            "marker": {
             "line": {
              "width": 0
             }
            },
            "type": "scatter"
           }
          ],
          "table": [
           {
            "cells": {
             "fill": {
              "color": "#000038"
             },
             "font": {
              "color": "#000037"
             },
             "line": {
              "color": "#000039"
             }
            },
            "header": {
             "fill": {
              "color": "#000040"
             },
             "font": {
              "color": "#000036"
             },
             "line": {
              "color": "#000039"
             }
            },
            "type": "table"
           }
          ],
          "waterfall": [
           {
            "connector": {
             "line": {
              "color": "#000036",
              "width": 2
             }
            },
            "decreasing": {
             "marker": {
              "color": "#000033"
             }
            },
            "increasing": {
             "marker": {
              "color": "#000032"
             }
            },
            "totals": {
             "marker": {
              "color": "#000034"
             }
            },
            "type": "waterfall"
           }
          ]
         },
         "layout": {
          "coloraxis": {
           "colorscale": [
            [
             0,
             "#000011"
            ],
            [
             0.1111111111111111,
             "#000012"
            ],
            [
             0.2222222222222222,
             "#000013"
            ],
            [
             0.3333333333333333,
             "#000014"
            ],
            [
             0.4444444444444444,
             "#000015"
            ],
            [
             0.5555555555555556,
             "#000016"
            ],
            [
             0.6666666666666666,
             "#000017"
            ],
            [
             0.7777777777777778,
             "#000018"
            ],
            [
             0.8888888888888888,
             "#000019"
            ],
            [
             1,
             "#000020"
            ]
           ]
          },
          "colorscale": {
           "diverging": [
            [
             0,
             "#000021"
            ],
            [
             0.1,
             "#000022"
            ],
            [
             0.2,
             "#000023"
            ],
            [
             0.3,
             "#000024"
            ],
            [
             0.4,
             "#000025"
            ],
            [
             0.5,
             "#000026"
            ],
            [
             0.6,
             "#000027"
            ],
            [
             0.7,
             "#000028"
            ],
            [
             0.8,
             "#000029"
            ],
            [
             0.9,
             "#000030"
            ],
            [
             1,
             "#000031"
            ]
           ],
           "sequential": [
            [
             0,
             "#000011"
            ],
            [
             0.1111111111111111,
             "#000012"
            ],
            [
             0.2222222222222222,
             "#000013"
            ],
            [
             0.3333333333333333,
             "#000014"
            ],
            [
             0.4444444444444444,
             "#000015"
            ],
            [
             0.5555555555555556,
             "#000016"
            ],
            [
             0.6666666666666666,
             "#000017"
            ],
            [
             0.7777777777777778,
             "#000018"
            ],
            [
             0.8888888888888888,
             "#000019"
            ],
            [
             1,
             "#000020"
            ]
           ],
           "sequentialminus": [
            [
             0,
             "#000011"
            ],
            [
             0.1111111111111111,
             "#000012"
            ],
            [
             0.2222222222222222,
             "#000013"
            ],
            [
             0.3333333333333333,
             "#000014"
            ],
            [
             0.4444444444444444,
             "#000015"
            ],
            [
             0.5555555555555556,
             "#000016"
            ],
            [
             0.6666666666666666,
             "#000017"
            ],
            [
             0.7777777777777778,
             "#000018"
            ],
            [
             0.8888888888888888,
             "#000019"
            ],
            [
             1,
             "#000020"
            ]
           ]
          },
          "colorway": [
           "#000001",
           "#000002",
           "#000003",
           "#000004",
           "#000005",
           "#000006",
           "#000007",
           "#000008",
           "#000009",
           "#000010"
          ]
         }
        }
       }
      }
     },
     "metadata": {},
     "output_type": "display_data"
    }
   ],
   "source": [
    "f.show()"
   ]
  },
  {
   "cell_type": "code",
   "execution_count": 8,
   "metadata": {},
   "outputs": [
    {
     "data": {
      "application/vnd.plotly.v1+json": {
       "config": {
        "plotlyServerURL": "https://plot.ly"
       },
       "data": [
        {
         "hole": 0.5,
         "labels": [
          "Dining",
          "Healthcare",
          "Leisure",
          "Shopping",
          "Transport",
          "Travel"
         ],
         "marker": {
          "colors": [
           "red",
           "green",
           "blue",
           "orange"
          ]
         },
         "type": "pie",
         "values": [
          835.62,
          14,
          115,
          663.81,
          29.22,
          476.7
         ]
        }
       ],
       "layout": {
        "annotations": [
         {
          "font": {
           "size": 20
          },
          "showarrow": false,
          "text": "$2,134",
          "x": 0.5,
          "y": 0.5
         }
        ],
        "template": {
         "data": {
          "bar": [
           {
            "error_x": {
             "color": "#2a3f5f"
            },
            "error_y": {
             "color": "#2a3f5f"
            },
            "marker": {
             "line": {
              "color": "#E5ECF6",
              "width": 0.5
             },
             "pattern": {
              "fillmode": "overlay",
              "size": 10,
              "solidity": 0.2
             }
            },
            "type": "bar"
           }
          ],
          "barpolar": [
           {
            "marker": {
             "line": {
              "color": "#E5ECF6",
              "width": 0.5
             },
             "pattern": {
              "fillmode": "overlay",
              "size": 10,
              "solidity": 0.2
             }
            },
            "type": "barpolar"
           }
          ],
          "carpet": [
           {
            "aaxis": {
             "endlinecolor": "#2a3f5f",
             "gridcolor": "white",
             "linecolor": "white",
             "minorgridcolor": "white",
             "startlinecolor": "#2a3f5f"
            },
            "baxis": {
             "endlinecolor": "#2a3f5f",
             "gridcolor": "white",
             "linecolor": "white",
             "minorgridcolor": "white",
             "startlinecolor": "#2a3f5f"
            },
            "type": "carpet"
           }
          ],
          "choropleth": [
           {
            "colorbar": {
             "outlinewidth": 0,
             "ticks": ""
            },
            "type": "choropleth"
           }
          ],
          "contour": [
           {
            "colorbar": {
             "outlinewidth": 0,
             "ticks": ""
            },
            "colorscale": [
             [
              0,
              "#0d0887"
             ],
             [
              0.1111111111111111,
              "#46039f"
             ],
             [
              0.2222222222222222,
              "#7201a8"
             ],
             [
              0.3333333333333333,
              "#9c179e"
             ],
             [
              0.4444444444444444,
              "#bd3786"
             ],
             [
              0.5555555555555556,
              "#d8576b"
             ],
             [
              0.6666666666666666,
              "#ed7953"
             ],
             [
              0.7777777777777778,
              "#fb9f3a"
             ],
             [
              0.8888888888888888,
              "#fdca26"
             ],
             [
              1,
              "#f0f921"
             ]
            ],
            "type": "contour"
           }
          ],
          "contourcarpet": [
           {
            "colorbar": {
             "outlinewidth": 0,
             "ticks": ""
            },
            "type": "contourcarpet"
           }
          ],
          "heatmap": [
           {
            "colorbar": {
             "outlinewidth": 0,
             "ticks": ""
            },
            "colorscale": [
             [
              0,
              "#0d0887"
             ],
             [
              0.1111111111111111,
              "#46039f"
             ],
             [
              0.2222222222222222,
              "#7201a8"
             ],
             [
              0.3333333333333333,
              "#9c179e"
             ],
             [
              0.4444444444444444,
              "#bd3786"
             ],
             [
              0.5555555555555556,
              "#d8576b"
             ],
             [
              0.6666666666666666,
              "#ed7953"
             ],
             [
              0.7777777777777778,
              "#fb9f3a"
             ],
             [
              0.8888888888888888,
              "#fdca26"
             ],
             [
              1,
              "#f0f921"
             ]
            ],
            "type": "heatmap"
           }
          ],
          "heatmapgl": [
           {
            "colorbar": {
             "outlinewidth": 0,
             "ticks": ""
            },
            "colorscale": [
             [
              0,
              "#0d0887"
             ],
             [
              0.1111111111111111,
              "#46039f"
             ],
             [
              0.2222222222222222,
              "#7201a8"
             ],
             [
              0.3333333333333333,
              "#9c179e"
             ],
             [
              0.4444444444444444,
              "#bd3786"
             ],
             [
              0.5555555555555556,
              "#d8576b"
             ],
             [
              0.6666666666666666,
              "#ed7953"
             ],
             [
              0.7777777777777778,
              "#fb9f3a"
             ],
             [
              0.8888888888888888,
              "#fdca26"
             ],
             [
              1,
              "#f0f921"
             ]
            ],
            "type": "heatmapgl"
           }
          ],
          "histogram": [
           {
            "marker": {
             "pattern": {
              "fillmode": "overlay",
              "size": 10,
              "solidity": 0.2
             }
            },
            "type": "histogram"
           }
          ],
          "histogram2d": [
           {
            "colorbar": {
             "outlinewidth": 0,
             "ticks": ""
            },
            "colorscale": [
             [
              0,
              "#0d0887"
             ],
             [
              0.1111111111111111,
              "#46039f"
             ],
             [
              0.2222222222222222,
              "#7201a8"
             ],
             [
              0.3333333333333333,
              "#9c179e"
             ],
             [
              0.4444444444444444,
              "#bd3786"
             ],
             [
              0.5555555555555556,
              "#d8576b"
             ],
             [
              0.6666666666666666,
              "#ed7953"
             ],
             [
              0.7777777777777778,
              "#fb9f3a"
             ],
             [
              0.8888888888888888,
              "#fdca26"
             ],
             [
              1,
              "#f0f921"
             ]
            ],
            "type": "histogram2d"
           }
          ],
          "histogram2dcontour": [
           {
            "colorbar": {
             "outlinewidth": 0,
             "ticks": ""
            },
            "colorscale": [
             [
              0,
              "#0d0887"
             ],
             [
              0.1111111111111111,
              "#46039f"
             ],
             [
              0.2222222222222222,
              "#7201a8"
             ],
             [
              0.3333333333333333,
              "#9c179e"
             ],
             [
              0.4444444444444444,
              "#bd3786"
             ],
             [
              0.5555555555555556,
              "#d8576b"
             ],
             [
              0.6666666666666666,
              "#ed7953"
             ],
             [
              0.7777777777777778,
              "#fb9f3a"
             ],
             [
              0.8888888888888888,
              "#fdca26"
             ],
             [
              1,
              "#f0f921"
             ]
            ],
            "type": "histogram2dcontour"
           }
          ],
          "mesh3d": [
           {
            "colorbar": {
             "outlinewidth": 0,
             "ticks": ""
            },
            "type": "mesh3d"
           }
          ],
          "parcoords": [
           {
            "line": {
             "colorbar": {
              "outlinewidth": 0,
              "ticks": ""
             }
            },
            "type": "parcoords"
           }
          ],
          "pie": [
           {
            "automargin": true,
            "type": "pie"
           }
          ],
          "scatter": [
           {
            "fillpattern": {
             "fillmode": "overlay",
             "size": 10,
             "solidity": 0.2
            },
            "type": "scatter"
           }
          ],
          "scatter3d": [
           {
            "line": {
             "colorbar": {
              "outlinewidth": 0,
              "ticks": ""
             }
            },
            "marker": {
             "colorbar": {
              "outlinewidth": 0,
              "ticks": ""
             }
            },
            "type": "scatter3d"
           }
          ],
          "scattercarpet": [
           {
            "marker": {
             "colorbar": {
              "outlinewidth": 0,
              "ticks": ""
             }
            },
            "type": "scattercarpet"
           }
          ],
          "scattergeo": [
           {
            "marker": {
             "colorbar": {
              "outlinewidth": 0,
              "ticks": ""
             }
            },
            "type": "scattergeo"
           }
          ],
          "scattergl": [
           {
            "marker": {
             "colorbar": {
              "outlinewidth": 0,
              "ticks": ""
             }
            },
            "type": "scattergl"
           }
          ],
          "scattermapbox": [
           {
            "marker": {
             "colorbar": {
              "outlinewidth": 0,
              "ticks": ""
             }
            },
            "type": "scattermapbox"
           }
          ],
          "scatterpolar": [
           {
            "marker": {
             "colorbar": {
              "outlinewidth": 0,
              "ticks": ""
             }
            },
            "type": "scatterpolar"
           }
          ],
          "scatterpolargl": [
           {
            "marker": {
             "colorbar": {
              "outlinewidth": 0,
              "ticks": ""
             }
            },
            "type": "scatterpolargl"
           }
          ],
          "scatterternary": [
           {
            "marker": {
             "colorbar": {
              "outlinewidth": 0,
              "ticks": ""
             }
            },
            "type": "scatterternary"
           }
          ],
          "surface": [
           {
            "colorbar": {
             "outlinewidth": 0,
             "ticks": ""
            },
            "colorscale": [
             [
              0,
              "#0d0887"
             ],
             [
              0.1111111111111111,
              "#46039f"
             ],
             [
              0.2222222222222222,
              "#7201a8"
             ],
             [
              0.3333333333333333,
              "#9c179e"
             ],
             [
              0.4444444444444444,
              "#bd3786"
             ],
             [
              0.5555555555555556,
              "#d8576b"
             ],
             [
              0.6666666666666666,
              "#ed7953"
             ],
             [
              0.7777777777777778,
              "#fb9f3a"
             ],
             [
              0.8888888888888888,
              "#fdca26"
             ],
             [
              1,
              "#f0f921"
             ]
            ],
            "type": "surface"
           }
          ],
          "table": [
           {
            "cells": {
             "fill": {
              "color": "#EBF0F8"
             },
             "line": {
              "color": "white"
             }
            },
            "header": {
             "fill": {
              "color": "#C8D4E3"
             },
             "line": {
              "color": "white"
             }
            },
            "type": "table"
           }
          ]
         },
         "layout": {
          "annotationdefaults": {
           "arrowcolor": "#2a3f5f",
           "arrowhead": 0,
           "arrowwidth": 1
          },
          "autotypenumbers": "strict",
          "coloraxis": {
           "colorbar": {
            "outlinewidth": 0,
            "ticks": ""
           }
          },
          "colorscale": {
           "diverging": [
            [
             0,
             "#8e0152"
            ],
            [
             0.1,
             "#c51b7d"
            ],
            [
             0.2,
             "#de77ae"
            ],
            [
             0.3,
             "#f1b6da"
            ],
            [
             0.4,
             "#fde0ef"
            ],
            [
             0.5,
             "#f7f7f7"
            ],
            [
             0.6,
             "#e6f5d0"
            ],
            [
             0.7,
             "#b8e186"
            ],
            [
             0.8,
             "#7fbc41"
            ],
            [
             0.9,
             "#4d9221"
            ],
            [
             1,
             "#276419"
            ]
           ],
           "sequential": [
            [
             0,
             "#0d0887"
            ],
            [
             0.1111111111111111,
             "#46039f"
            ],
            [
             0.2222222222222222,
             "#7201a8"
            ],
            [
             0.3333333333333333,
             "#9c179e"
            ],
            [
             0.4444444444444444,
             "#bd3786"
            ],
            [
             0.5555555555555556,
             "#d8576b"
            ],
            [
             0.6666666666666666,
             "#ed7953"
            ],
            [
             0.7777777777777778,
             "#fb9f3a"
            ],
            [
             0.8888888888888888,
             "#fdca26"
            ],
            [
             1,
             "#f0f921"
            ]
           ],
           "sequentialminus": [
            [
             0,
             "#0d0887"
            ],
            [
             0.1111111111111111,
             "#46039f"
            ],
            [
             0.2222222222222222,
             "#7201a8"
            ],
            [
             0.3333333333333333,
             "#9c179e"
            ],
            [
             0.4444444444444444,
             "#bd3786"
            ],
            [
             0.5555555555555556,
             "#d8576b"
            ],
            [
             0.6666666666666666,
             "#ed7953"
            ],
            [
             0.7777777777777778,
             "#fb9f3a"
            ],
            [
             0.8888888888888888,
             "#fdca26"
            ],
            [
             1,
             "#f0f921"
            ]
           ]
          },
          "colorway": [
           "#636efa",
           "#EF553B",
           "#00cc96",
           "#ab63fa",
           "#FFA15A",
           "#19d3f3",
           "#FF6692",
           "#B6E880",
           "#FF97FF",
           "#FECB52"
          ],
          "font": {
           "color": "#2a3f5f"
          },
          "geo": {
           "bgcolor": "white",
           "lakecolor": "white",
           "landcolor": "#E5ECF6",
           "showlakes": true,
           "showland": true,
           "subunitcolor": "white"
          },
          "hoverlabel": {
           "align": "left"
          },
          "hovermode": "closest",
          "mapbox": {
           "style": "light"
          },
          "paper_bgcolor": "white",
          "plot_bgcolor": "#E5ECF6",
          "polar": {
           "angularaxis": {
            "gridcolor": "white",
            "linecolor": "white",
            "ticks": ""
           },
           "bgcolor": "#E5ECF6",
           "radialaxis": {
            "gridcolor": "white",
            "linecolor": "white",
            "ticks": ""
           }
          },
          "scene": {
           "xaxis": {
            "backgroundcolor": "#E5ECF6",
            "gridcolor": "white",
            "gridwidth": 2,
            "linecolor": "white",
            "showbackground": true,
            "ticks": "",
            "zerolinecolor": "white"
           },
           "yaxis": {
            "backgroundcolor": "#E5ECF6",
            "gridcolor": "white",
            "gridwidth": 2,
            "linecolor": "white",
            "showbackground": true,
            "ticks": "",
            "zerolinecolor": "white"
           },
           "zaxis": {
            "backgroundcolor": "#E5ECF6",
            "gridcolor": "white",
            "gridwidth": 2,
            "linecolor": "white",
            "showbackground": true,
            "ticks": "",
            "zerolinecolor": "white"
           }
          },
          "shapedefaults": {
           "line": {
            "color": "#2a3f5f"
           }
          },
          "ternary": {
           "aaxis": {
            "gridcolor": "white",
            "linecolor": "white",
            "ticks": ""
           },
           "baxis": {
            "gridcolor": "white",
            "linecolor": "white",
            "ticks": ""
           },
           "bgcolor": "#E5ECF6",
           "caxis": {
            "gridcolor": "white",
            "linecolor": "white",
            "ticks": ""
           }
          },
          "title": {
           "x": 0.05
          },
          "xaxis": {
           "automargin": true,
           "gridcolor": "white",
           "linecolor": "white",
           "ticks": "",
           "title": {
            "standoff": 15
           },
           "zerolinecolor": "white",
           "zerolinewidth": 2
          },
          "yaxis": {
           "automargin": true,
           "gridcolor": "white",
           "linecolor": "white",
           "ticks": "",
           "title": {
            "standoff": 15
           },
           "zerolinecolor": "white",
           "zerolinewidth": 2
          }
         }
        }
       }
      }
     },
     "metadata": {},
     "output_type": "display_data"
    }
   ],
   "source": [
    "# Create a donut chart using Plotly Graph Objects\n",
    "fig = go.Figure()\n",
    "values = sum_df.total.values\n",
    "labels = sum_df.Type.values\n",
    "fig.add_trace(go.Pie(\n",
    "    labels=labels,\n",
    "    values=values,\n",
    "    hole=0.5,  # Set the hole parameter to create a donut chart\n",
    "    marker=dict(colors=['red', 'green', 'blue', 'orange'])  # You can customize colors if needed\n",
    "))\n",
    "total_spending = sum(values)\n",
    "fig.update_layout(\n",
    "    # title='Donut Chart Example',\n",
    "    annotations=[dict(text=f'${total_spending:,.0f}', x=0.5, y=0.5, font_size=20, showarrow=False)]\n",
    "    # , legend= dict(x = 0.5, y=-0.1, orientation='h')\n",
    ")\n",
    "\n",
    "fig.show()"
   ]
  },
  {
   "cell_type": "markdown",
   "metadata": {},
   "source": [
    "# Monthly / weekly Comparison\n",
    "\n",
    "Comparing spending of main types over the last `n` months / weeks"
   ]
  },
  {
   "cell_type": "code",
   "execution_count": 9,
   "metadata": {},
   "outputs": [],
   "source": [
    "# How many months to take\n",
    "n_months = 4\n",
    "# Get the first day of the current month\n",
    "current_month = datetime.date.today().replace(day=1)\n",
    "# Get the first day of the month for the last n months (this month included)\n",
    "last_n_months = list(map(lambda x: (current_month-relativedelta(months=x)), range(0, n_months)))\n",
    "# Get the relevant entries (entries in the last n_months)\n",
    "n_months_df=df.loc[df.month.isin(last_n_months)]"
   ]
  },
  {
   "cell_type": "code",
   "execution_count": 10,
   "metadata": {},
   "outputs": [
    {
     "data": {
      "text/plain": [
       "Type             object\n",
       "month    datetime64[ns]\n",
       "total           float64\n",
       "dtype: object"
      ]
     },
     "execution_count": 10,
     "metadata": {},
     "output_type": "execute_result"
    }
   ],
   "source": [
    "# Aggregate the spending at the type-month level\n",
    "agg_df=n_months_df.groupby(['Type', 'month']).agg(\n",
    "    total = pd.NamedAgg(column='Amount', aggfunc='sum')\n",
    ").reset_index()\n",
    "\n",
    "agg_df.dtypes"
   ]
  },
  {
   "cell_type": "code",
   "execution_count": 11,
   "metadata": {},
   "outputs": [
    {
     "data": {
      "application/vnd.plotly.v1+json": {
       "config": {
        "plotlyServerURL": "https://plot.ly"
       },
       "data": [
        {
         "line": {
          "color": "red",
          "width": 2
         },
         "marker": {
          "size": 8,
          "symbol": "diamond"
         },
         "mode": "lines+markers",
         "name": "Dining",
         "type": "scatter",
         "x": [
          "2023-08-01T00:00:00.000000000",
          "2023-09-01T00:00:00.000000000",
          "2023-10-01T00:00:00.000000000",
          "2023-11-01T00:00:00.000000000"
         ],
         "y": [
          637.36,
          555.09,
          835.62,
          817.9599999999999
         ]
        },
        {
         "line": {
          "color": "green",
          "width": 2
         },
         "marker": {
          "size": 8,
          "symbol": "diamond"
         },
         "mode": "lines+markers",
         "name": "Healthcare",
         "type": "scatter",
         "x": [
          "2023-08-01T00:00:00.000000000",
          "2023-09-01T00:00:00.000000000",
          "2023-10-01T00:00:00.000000000",
          "2023-11-01T00:00:00.000000000"
         ],
         "y": [
          74.75,
          62.25,
          14,
          37.4
         ]
        },
        {
         "line": {
          "color": "blue",
          "width": 2
         },
         "marker": {
          "size": 8,
          "symbol": "diamond"
         },
         "mode": "lines+markers",
         "name": "Leisure",
         "type": "scatter",
         "x": [
          "2023-08-01T00:00:00.000000000",
          "2023-09-01T00:00:00.000000000",
          "2023-10-01T00:00:00.000000000",
          "2023-11-01T00:00:00.000000000"
         ],
         "y": [
          30.27,
          23,
          115,
          37.16
         ]
        },
        {
         "line": {
          "color": "orange",
          "width": 2
         },
         "marker": {
          "size": 8,
          "symbol": "diamond"
         },
         "mode": "lines+markers",
         "name": "Shopping",
         "type": "scatter",
         "x": [
          "2023-08-01T00:00:00.000000000",
          "2023-09-01T00:00:00.000000000",
          "2023-10-01T00:00:00.000000000",
          "2023-11-01T00:00:00.000000000"
         ],
         "y": [
          303.6,
          598.66,
          663.81,
          213.75
         ]
        },
        {
         "line": {
          "color": "red",
          "width": 2
         },
         "marker": {
          "size": 8,
          "symbol": "diamond"
         },
         "mode": "lines+markers",
         "name": "Transport",
         "type": "scatter",
         "x": [
          "2023-08-01T00:00:00.000000000",
          "2023-09-01T00:00:00.000000000",
          "2023-10-01T00:00:00.000000000"
         ],
         "y": [
          198.77,
          195.99,
          29.22
         ]
        },
        {
         "line": {
          "color": "green",
          "width": 2
         },
         "marker": {
          "size": 8,
          "symbol": "diamond"
         },
         "mode": "lines+markers",
         "name": "Travel",
         "type": "scatter",
         "x": [
          "2023-10-01T00:00:00.000000000"
         ],
         "y": [
          476.7
         ]
        }
       ],
       "layout": {
        "margin": {
         "b": 50,
         "l": 50,
         "r": 50,
         "t": 50
        },
        "template": {
         "data": {
          "bar": [
           {
            "error_x": {
             "color": "#2a3f5f"
            },
            "error_y": {
             "color": "#2a3f5f"
            },
            "marker": {
             "line": {
              "color": "#E5ECF6",
              "width": 0.5
             },
             "pattern": {
              "fillmode": "overlay",
              "size": 10,
              "solidity": 0.2
             }
            },
            "type": "bar"
           }
          ],
          "barpolar": [
           {
            "marker": {
             "line": {
              "color": "#E5ECF6",
              "width": 0.5
             },
             "pattern": {
              "fillmode": "overlay",
              "size": 10,
              "solidity": 0.2
             }
            },
            "type": "barpolar"
           }
          ],
          "carpet": [
           {
            "aaxis": {
             "endlinecolor": "#2a3f5f",
             "gridcolor": "white",
             "linecolor": "white",
             "minorgridcolor": "white",
             "startlinecolor": "#2a3f5f"
            },
            "baxis": {
             "endlinecolor": "#2a3f5f",
             "gridcolor": "white",
             "linecolor": "white",
             "minorgridcolor": "white",
             "startlinecolor": "#2a3f5f"
            },
            "type": "carpet"
           }
          ],
          "choropleth": [
           {
            "colorbar": {
             "outlinewidth": 0,
             "ticks": ""
            },
            "type": "choropleth"
           }
          ],
          "contour": [
           {
            "colorbar": {
             "outlinewidth": 0,
             "ticks": ""
            },
            "colorscale": [
             [
              0,
              "#0d0887"
             ],
             [
              0.1111111111111111,
              "#46039f"
             ],
             [
              0.2222222222222222,
              "#7201a8"
             ],
             [
              0.3333333333333333,
              "#9c179e"
             ],
             [
              0.4444444444444444,
              "#bd3786"
             ],
             [
              0.5555555555555556,
              "#d8576b"
             ],
             [
              0.6666666666666666,
              "#ed7953"
             ],
             [
              0.7777777777777778,
              "#fb9f3a"
             ],
             [
              0.8888888888888888,
              "#fdca26"
             ],
             [
              1,
              "#f0f921"
             ]
            ],
            "type": "contour"
           }
          ],
          "contourcarpet": [
           {
            "colorbar": {
             "outlinewidth": 0,
             "ticks": ""
            },
            "type": "contourcarpet"
           }
          ],
          "heatmap": [
           {
            "colorbar": {
             "outlinewidth": 0,
             "ticks": ""
            },
            "colorscale": [
             [
              0,
              "#0d0887"
             ],
             [
              0.1111111111111111,
              "#46039f"
             ],
             [
              0.2222222222222222,
              "#7201a8"
             ],
             [
              0.3333333333333333,
              "#9c179e"
             ],
             [
              0.4444444444444444,
              "#bd3786"
             ],
             [
              0.5555555555555556,
              "#d8576b"
             ],
             [
              0.6666666666666666,
              "#ed7953"
             ],
             [
              0.7777777777777778,
              "#fb9f3a"
             ],
             [
              0.8888888888888888,
              "#fdca26"
             ],
             [
              1,
              "#f0f921"
             ]
            ],
            "type": "heatmap"
           }
          ],
          "heatmapgl": [
           {
            "colorbar": {
             "outlinewidth": 0,
             "ticks": ""
            },
            "colorscale": [
             [
              0,
              "#0d0887"
             ],
             [
              0.1111111111111111,
              "#46039f"
             ],
             [
              0.2222222222222222,
              "#7201a8"
             ],
             [
              0.3333333333333333,
              "#9c179e"
             ],
             [
              0.4444444444444444,
              "#bd3786"
             ],
             [
              0.5555555555555556,
              "#d8576b"
             ],
             [
              0.6666666666666666,
              "#ed7953"
             ],
             [
              0.7777777777777778,
              "#fb9f3a"
             ],
             [
              0.8888888888888888,
              "#fdca26"
             ],
             [
              1,
              "#f0f921"
             ]
            ],
            "type": "heatmapgl"
           }
          ],
          "histogram": [
           {
            "marker": {
             "pattern": {
              "fillmode": "overlay",
              "size": 10,
              "solidity": 0.2
             }
            },
            "type": "histogram"
           }
          ],
          "histogram2d": [
           {
            "colorbar": {
             "outlinewidth": 0,
             "ticks": ""
            },
            "colorscale": [
             [
              0,
              "#0d0887"
             ],
             [
              0.1111111111111111,
              "#46039f"
             ],
             [
              0.2222222222222222,
              "#7201a8"
             ],
             [
              0.3333333333333333,
              "#9c179e"
             ],
             [
              0.4444444444444444,
              "#bd3786"
             ],
             [
              0.5555555555555556,
              "#d8576b"
             ],
             [
              0.6666666666666666,
              "#ed7953"
             ],
             [
              0.7777777777777778,
              "#fb9f3a"
             ],
             [
              0.8888888888888888,
              "#fdca26"
             ],
             [
              1,
              "#f0f921"
             ]
            ],
            "type": "histogram2d"
           }
          ],
          "histogram2dcontour": [
           {
            "colorbar": {
             "outlinewidth": 0,
             "ticks": ""
            },
            "colorscale": [
             [
              0,
              "#0d0887"
             ],
             [
              0.1111111111111111,
              "#46039f"
             ],
             [
              0.2222222222222222,
              "#7201a8"
             ],
             [
              0.3333333333333333,
              "#9c179e"
             ],
             [
              0.4444444444444444,
              "#bd3786"
             ],
             [
              0.5555555555555556,
              "#d8576b"
             ],
             [
              0.6666666666666666,
              "#ed7953"
             ],
             [
              0.7777777777777778,
              "#fb9f3a"
             ],
             [
              0.8888888888888888,
              "#fdca26"
             ],
             [
              1,
              "#f0f921"
             ]
            ],
            "type": "histogram2dcontour"
           }
          ],
          "mesh3d": [
           {
            "colorbar": {
             "outlinewidth": 0,
             "ticks": ""
            },
            "type": "mesh3d"
           }
          ],
          "parcoords": [
           {
            "line": {
             "colorbar": {
              "outlinewidth": 0,
              "ticks": ""
             }
            },
            "type": "parcoords"
           }
          ],
          "pie": [
           {
            "automargin": true,
            "type": "pie"
           }
          ],
          "scatter": [
           {
            "fillpattern": {
             "fillmode": "overlay",
             "size": 10,
             "solidity": 0.2
            },
            "type": "scatter"
           }
          ],
          "scatter3d": [
           {
            "line": {
             "colorbar": {
              "outlinewidth": 0,
              "ticks": ""
             }
            },
            "marker": {
             "colorbar": {
              "outlinewidth": 0,
              "ticks": ""
             }
            },
            "type": "scatter3d"
           }
          ],
          "scattercarpet": [
           {
            "marker": {
             "colorbar": {
              "outlinewidth": 0,
              "ticks": ""
             }
            },
            "type": "scattercarpet"
           }
          ],
          "scattergeo": [
           {
            "marker": {
             "colorbar": {
              "outlinewidth": 0,
              "ticks": ""
             }
            },
            "type": "scattergeo"
           }
          ],
          "scattergl": [
           {
            "marker": {
             "colorbar": {
              "outlinewidth": 0,
              "ticks": ""
             }
            },
            "type": "scattergl"
           }
          ],
          "scattermapbox": [
           {
            "marker": {
             "colorbar": {
              "outlinewidth": 0,
              "ticks": ""
             }
            },
            "type": "scattermapbox"
           }
          ],
          "scatterpolar": [
           {
            "marker": {
             "colorbar": {
              "outlinewidth": 0,
              "ticks": ""
             }
            },
            "type": "scatterpolar"
           }
          ],
          "scatterpolargl": [
           {
            "marker": {
             "colorbar": {
              "outlinewidth": 0,
              "ticks": ""
             }
            },
            "type": "scatterpolargl"
           }
          ],
          "scatterternary": [
           {
            "marker": {
             "colorbar": {
              "outlinewidth": 0,
              "ticks": ""
             }
            },
            "type": "scatterternary"
           }
          ],
          "surface": [
           {
            "colorbar": {
             "outlinewidth": 0,
             "ticks": ""
            },
            "colorscale": [
             [
              0,
              "#0d0887"
             ],
             [
              0.1111111111111111,
              "#46039f"
             ],
             [
              0.2222222222222222,
              "#7201a8"
             ],
             [
              0.3333333333333333,
              "#9c179e"
             ],
             [
              0.4444444444444444,
              "#bd3786"
             ],
             [
              0.5555555555555556,
              "#d8576b"
             ],
             [
              0.6666666666666666,
              "#ed7953"
             ],
             [
              0.7777777777777778,
              "#fb9f3a"
             ],
             [
              0.8888888888888888,
              "#fdca26"
             ],
             [
              1,
              "#f0f921"
             ]
            ],
            "type": "surface"
           }
          ],
          "table": [
           {
            "cells": {
             "fill": {
              "color": "#EBF0F8"
             },
             "line": {
              "color": "white"
             }
            },
            "header": {
             "fill": {
              "color": "#C8D4E3"
             },
             "line": {
              "color": "white"
             }
            },
            "type": "table"
           }
          ]
         },
         "layout": {
          "annotationdefaults": {
           "arrowcolor": "#2a3f5f",
           "arrowhead": 0,
           "arrowwidth": 1
          },
          "autotypenumbers": "strict",
          "coloraxis": {
           "colorbar": {
            "outlinewidth": 0,
            "ticks": ""
           }
          },
          "colorscale": {
           "diverging": [
            [
             0,
             "#8e0152"
            ],
            [
             0.1,
             "#c51b7d"
            ],
            [
             0.2,
             "#de77ae"
            ],
            [
             0.3,
             "#f1b6da"
            ],
            [
             0.4,
             "#fde0ef"
            ],
            [
             0.5,
             "#f7f7f7"
            ],
            [
             0.6,
             "#e6f5d0"
            ],
            [
             0.7,
             "#b8e186"
            ],
            [
             0.8,
             "#7fbc41"
            ],
            [
             0.9,
             "#4d9221"
            ],
            [
             1,
             "#276419"
            ]
           ],
           "sequential": [
            [
             0,
             "#0d0887"
            ],
            [
             0.1111111111111111,
             "#46039f"
            ],
            [
             0.2222222222222222,
             "#7201a8"
            ],
            [
             0.3333333333333333,
             "#9c179e"
            ],
            [
             0.4444444444444444,
             "#bd3786"
            ],
            [
             0.5555555555555556,
             "#d8576b"
            ],
            [
             0.6666666666666666,
             "#ed7953"
            ],
            [
             0.7777777777777778,
             "#fb9f3a"
            ],
            [
             0.8888888888888888,
             "#fdca26"
            ],
            [
             1,
             "#f0f921"
            ]
           ],
           "sequentialminus": [
            [
             0,
             "#0d0887"
            ],
            [
             0.1111111111111111,
             "#46039f"
            ],
            [
             0.2222222222222222,
             "#7201a8"
            ],
            [
             0.3333333333333333,
             "#9c179e"
            ],
            [
             0.4444444444444444,
             "#bd3786"
            ],
            [
             0.5555555555555556,
             "#d8576b"
            ],
            [
             0.6666666666666666,
             "#ed7953"
            ],
            [
             0.7777777777777778,
             "#fb9f3a"
            ],
            [
             0.8888888888888888,
             "#fdca26"
            ],
            [
             1,
             "#f0f921"
            ]
           ]
          },
          "colorway": [
           "#636efa",
           "#EF553B",
           "#00cc96",
           "#ab63fa",
           "#FFA15A",
           "#19d3f3",
           "#FF6692",
           "#B6E880",
           "#FF97FF",
           "#FECB52"
          ],
          "font": {
           "color": "#2a3f5f"
          },
          "geo": {
           "bgcolor": "white",
           "lakecolor": "white",
           "landcolor": "#E5ECF6",
           "showlakes": true,
           "showland": true,
           "subunitcolor": "white"
          },
          "hoverlabel": {
           "align": "left"
          },
          "hovermode": "closest",
          "mapbox": {
           "style": "light"
          },
          "paper_bgcolor": "white",
          "plot_bgcolor": "#E5ECF6",
          "polar": {
           "angularaxis": {
            "gridcolor": "white",
            "linecolor": "white",
            "ticks": ""
           },
           "bgcolor": "#E5ECF6",
           "radialaxis": {
            "gridcolor": "white",
            "linecolor": "white",
            "ticks": ""
           }
          },
          "scene": {
           "xaxis": {
            "backgroundcolor": "#E5ECF6",
            "gridcolor": "white",
            "gridwidth": 2,
            "linecolor": "white",
            "showbackground": true,
            "ticks": "",
            "zerolinecolor": "white"
           },
           "yaxis": {
            "backgroundcolor": "#E5ECF6",
            "gridcolor": "white",
            "gridwidth": 2,
            "linecolor": "white",
            "showbackground": true,
            "ticks": "",
            "zerolinecolor": "white"
           },
           "zaxis": {
            "backgroundcolor": "#E5ECF6",
            "gridcolor": "white",
            "gridwidth": 2,
            "linecolor": "white",
            "showbackground": true,
            "ticks": "",
            "zerolinecolor": "white"
           }
          },
          "shapedefaults": {
           "line": {
            "color": "#2a3f5f"
           }
          },
          "ternary": {
           "aaxis": {
            "gridcolor": "white",
            "linecolor": "white",
            "ticks": ""
           },
           "baxis": {
            "gridcolor": "white",
            "linecolor": "white",
            "ticks": ""
           },
           "bgcolor": "#E5ECF6",
           "caxis": {
            "gridcolor": "white",
            "linecolor": "white",
            "ticks": ""
           }
          },
          "title": {
           "x": 0.05
          },
          "xaxis": {
           "automargin": true,
           "gridcolor": "white",
           "linecolor": "white",
           "ticks": "",
           "title": {
            "standoff": 15
           },
           "zerolinecolor": "white",
           "zerolinewidth": 2
          },
          "yaxis": {
           "automargin": true,
           "gridcolor": "white",
           "linecolor": "white",
           "ticks": "",
           "title": {
            "standoff": 15
           },
           "zerolinecolor": "white",
           "zerolinewidth": 2
          }
         }
        },
        "title": {
         "text": "Prices of Items Over the Past Few Months"
        },
        "xaxis": {
         "title": {
          "text": "Month"
         }
        },
        "yaxis": {
         "title": {
          "text": "Price"
         }
        }
       }
      }
     },
     "metadata": {},
     "output_type": "display_data"
    }
   ],
   "source": [
    "# Cycle colors\n",
    "color_mapper = ['red', 'green', 'blue', 'orange']\n",
    "# Get the types\n",
    "types = sorted(agg_df.Type.unique())\n",
    "# Plotting the figure\n",
    "fig = go.Figure()\n",
    "# Track color cycle\n",
    "color_id = 0\n",
    "for group, tdf in agg_df.groupby(\"Type\"):\n",
    "    color = color_mapper[color_id%len(color_mapper)]\n",
    "    fig.add_trace(\n",
    "        go.Scatter(\n",
    "            x = tdf.month.values\n",
    "            , y= tdf.total.values\n",
    "            , mode='lines+markers'\n",
    "            , name=group\n",
    "            , line=dict(color=color, width=2)\n",
    "            , marker=dict(symbol='diamond', size=8)\n",
    "\n",
    "        )\n",
    "    )\n",
    "    color_id+=1\n",
    "\n",
    "# Customize layout\n",
    "fig.update_layout(\n",
    "    title='Prices of Items Over the Past Few Months',\n",
    "    xaxis=dict(title='Month'),\n",
    "    yaxis=dict(title='Price'),\n",
    "    # legend=dict(x=0.02, y=0.98),\n",
    "    margin=dict(l=50, r=50, t=50, b=50)\n",
    ")    "
   ]
  },
  {
   "cell_type": "code",
   "execution_count": 12,
   "metadata": {},
   "outputs": [
    {
     "data": {
      "application/vnd.plotly.v1+json": {
       "config": {
        "plotlyServerURL": "https://plot.ly"
       },
       "data": [
        {
         "line": {
          "color": "red",
          "width": 2
         },
         "marker": {
          "size": 8,
          "symbol": "diamond"
         },
         "mode": "lines+markers",
         "name": "Dining",
         "type": "scatter",
         "x": [
          "2023-08-01T00:00:00.000000000",
          "2023-09-01T00:00:00.000000000",
          "2023-10-01T00:00:00.000000000",
          "2023-11-01T00:00:00.000000000"
         ],
         "y": [
          637.36,
          555.09,
          835.62,
          817.9599999999999
         ]
        },
        {
         "line": {
          "color": "green",
          "width": 2
         },
         "marker": {
          "size": 8,
          "symbol": "diamond"
         },
         "mode": "lines+markers",
         "name": "Healthcare",
         "type": "scatter",
         "x": [
          "2023-08-01T00:00:00.000000000",
          "2023-09-01T00:00:00.000000000",
          "2023-10-01T00:00:00.000000000",
          "2023-11-01T00:00:00.000000000"
         ],
         "y": [
          74.75,
          62.25,
          14,
          37.4
         ]
        },
        {
         "line": {
          "color": "blue",
          "width": 2
         },
         "marker": {
          "size": 8,
          "symbol": "diamond"
         },
         "mode": "lines+markers",
         "name": "Leisure",
         "type": "scatter",
         "x": [
          "2023-08-01T00:00:00.000000000",
          "2023-09-01T00:00:00.000000000",
          "2023-10-01T00:00:00.000000000",
          "2023-11-01T00:00:00.000000000"
         ],
         "y": [
          30.27,
          23,
          115,
          37.16
         ]
        },
        {
         "line": {
          "color": "orange",
          "width": 2
         },
         "marker": {
          "size": 8,
          "symbol": "diamond"
         },
         "mode": "lines+markers",
         "name": "Shopping",
         "type": "scatter",
         "x": [
          "2023-08-01T00:00:00.000000000",
          "2023-09-01T00:00:00.000000000",
          "2023-10-01T00:00:00.000000000",
          "2023-11-01T00:00:00.000000000"
         ],
         "y": [
          303.6,
          598.66,
          663.81,
          213.75
         ]
        },
        {
         "line": {
          "color": "red",
          "width": 2
         },
         "marker": {
          "size": 8,
          "symbol": "diamond"
         },
         "mode": "lines+markers",
         "name": "Transport",
         "type": "scatter",
         "x": [
          "2023-08-01T00:00:00.000000000",
          "2023-09-01T00:00:00.000000000",
          "2023-10-01T00:00:00.000000000"
         ],
         "y": [
          198.77,
          195.99,
          29.22
         ]
        },
        {
         "line": {
          "color": "green",
          "width": 2
         },
         "marker": {
          "size": 8,
          "symbol": "diamond"
         },
         "mode": "lines+markers",
         "name": "Travel",
         "type": "scatter",
         "x": [
          "2023-10-01T00:00:00.000000000"
         ],
         "y": [
          476.7
         ]
        }
       ],
       "layout": {
        "margin": {
         "b": 50,
         "l": 50,
         "r": 50,
         "t": 50
        },
        "template": {
         "data": {
          "bar": [
           {
            "error_x": {
             "color": "#2a3f5f"
            },
            "error_y": {
             "color": "#2a3f5f"
            },
            "marker": {
             "line": {
              "color": "#E5ECF6",
              "width": 0.5
             },
             "pattern": {
              "fillmode": "overlay",
              "size": 10,
              "solidity": 0.2
             }
            },
            "type": "bar"
           }
          ],
          "barpolar": [
           {
            "marker": {
             "line": {
              "color": "#E5ECF6",
              "width": 0.5
             },
             "pattern": {
              "fillmode": "overlay",
              "size": 10,
              "solidity": 0.2
             }
            },
            "type": "barpolar"
           }
          ],
          "carpet": [
           {
            "aaxis": {
             "endlinecolor": "#2a3f5f",
             "gridcolor": "white",
             "linecolor": "white",
             "minorgridcolor": "white",
             "startlinecolor": "#2a3f5f"
            },
            "baxis": {
             "endlinecolor": "#2a3f5f",
             "gridcolor": "white",
             "linecolor": "white",
             "minorgridcolor": "white",
             "startlinecolor": "#2a3f5f"
            },
            "type": "carpet"
           }
          ],
          "choropleth": [
           {
            "colorbar": {
             "outlinewidth": 0,
             "ticks": ""
            },
            "type": "choropleth"
           }
          ],
          "contour": [
           {
            "colorbar": {
             "outlinewidth": 0,
             "ticks": ""
            },
            "colorscale": [
             [
              0,
              "#0d0887"
             ],
             [
              0.1111111111111111,
              "#46039f"
             ],
             [
              0.2222222222222222,
              "#7201a8"
             ],
             [
              0.3333333333333333,
              "#9c179e"
             ],
             [
              0.4444444444444444,
              "#bd3786"
             ],
             [
              0.5555555555555556,
              "#d8576b"
             ],
             [
              0.6666666666666666,
              "#ed7953"
             ],
             [
              0.7777777777777778,
              "#fb9f3a"
             ],
             [
              0.8888888888888888,
              "#fdca26"
             ],
             [
              1,
              "#f0f921"
             ]
            ],
            "type": "contour"
           }
          ],
          "contourcarpet": [
           {
            "colorbar": {
             "outlinewidth": 0,
             "ticks": ""
            },
            "type": "contourcarpet"
           }
          ],
          "heatmap": [
           {
            "colorbar": {
             "outlinewidth": 0,
             "ticks": ""
            },
            "colorscale": [
             [
              0,
              "#0d0887"
             ],
             [
              0.1111111111111111,
              "#46039f"
             ],
             [
              0.2222222222222222,
              "#7201a8"
             ],
             [
              0.3333333333333333,
              "#9c179e"
             ],
             [
              0.4444444444444444,
              "#bd3786"
             ],
             [
              0.5555555555555556,
              "#d8576b"
             ],
             [
              0.6666666666666666,
              "#ed7953"
             ],
             [
              0.7777777777777778,
              "#fb9f3a"
             ],
             [
              0.8888888888888888,
              "#fdca26"
             ],
             [
              1,
              "#f0f921"
             ]
            ],
            "type": "heatmap"
           }
          ],
          "heatmapgl": [
           {
            "colorbar": {
             "outlinewidth": 0,
             "ticks": ""
            },
            "colorscale": [
             [
              0,
              "#0d0887"
             ],
             [
              0.1111111111111111,
              "#46039f"
             ],
             [
              0.2222222222222222,
              "#7201a8"
             ],
             [
              0.3333333333333333,
              "#9c179e"
             ],
             [
              0.4444444444444444,
              "#bd3786"
             ],
             [
              0.5555555555555556,
              "#d8576b"
             ],
             [
              0.6666666666666666,
              "#ed7953"
             ],
             [
              0.7777777777777778,
              "#fb9f3a"
             ],
             [
              0.8888888888888888,
              "#fdca26"
             ],
             [
              1,
              "#f0f921"
             ]
            ],
            "type": "heatmapgl"
           }
          ],
          "histogram": [
           {
            "marker": {
             "pattern": {
              "fillmode": "overlay",
              "size": 10,
              "solidity": 0.2
             }
            },
            "type": "histogram"
           }
          ],
          "histogram2d": [
           {
            "colorbar": {
             "outlinewidth": 0,
             "ticks": ""
            },
            "colorscale": [
             [
              0,
              "#0d0887"
             ],
             [
              0.1111111111111111,
              "#46039f"
             ],
             [
              0.2222222222222222,
              "#7201a8"
             ],
             [
              0.3333333333333333,
              "#9c179e"
             ],
             [
              0.4444444444444444,
              "#bd3786"
             ],
             [
              0.5555555555555556,
              "#d8576b"
             ],
             [
              0.6666666666666666,
              "#ed7953"
             ],
             [
              0.7777777777777778,
              "#fb9f3a"
             ],
             [
              0.8888888888888888,
              "#fdca26"
             ],
             [
              1,
              "#f0f921"
             ]
            ],
            "type": "histogram2d"
           }
          ],
          "histogram2dcontour": [
           {
            "colorbar": {
             "outlinewidth": 0,
             "ticks": ""
            },
            "colorscale": [
             [
              0,
              "#0d0887"
             ],
             [
              0.1111111111111111,
              "#46039f"
             ],
             [
              0.2222222222222222,
              "#7201a8"
             ],
             [
              0.3333333333333333,
              "#9c179e"
             ],
             [
              0.4444444444444444,
              "#bd3786"
             ],
             [
              0.5555555555555556,
              "#d8576b"
             ],
             [
              0.6666666666666666,
              "#ed7953"
             ],
             [
              0.7777777777777778,
              "#fb9f3a"
             ],
             [
              0.8888888888888888,
              "#fdca26"
             ],
             [
              1,
              "#f0f921"
             ]
            ],
            "type": "histogram2dcontour"
           }
          ],
          "mesh3d": [
           {
            "colorbar": {
             "outlinewidth": 0,
             "ticks": ""
            },
            "type": "mesh3d"
           }
          ],
          "parcoords": [
           {
            "line": {
             "colorbar": {
              "outlinewidth": 0,
              "ticks": ""
             }
            },
            "type": "parcoords"
           }
          ],
          "pie": [
           {
            "automargin": true,
            "type": "pie"
           }
          ],
          "scatter": [
           {
            "fillpattern": {
             "fillmode": "overlay",
             "size": 10,
             "solidity": 0.2
            },
            "type": "scatter"
           }
          ],
          "scatter3d": [
           {
            "line": {
             "colorbar": {
              "outlinewidth": 0,
              "ticks": ""
             }
            },
            "marker": {
             "colorbar": {
              "outlinewidth": 0,
              "ticks": ""
             }
            },
            "type": "scatter3d"
           }
          ],
          "scattercarpet": [
           {
            "marker": {
             "colorbar": {
              "outlinewidth": 0,
              "ticks": ""
             }
            },
            "type": "scattercarpet"
           }
          ],
          "scattergeo": [
           {
            "marker": {
             "colorbar": {
              "outlinewidth": 0,
              "ticks": ""
             }
            },
            "type": "scattergeo"
           }
          ],
          "scattergl": [
           {
            "marker": {
             "colorbar": {
              "outlinewidth": 0,
              "ticks": ""
             }
            },
            "type": "scattergl"
           }
          ],
          "scattermapbox": [
           {
            "marker": {
             "colorbar": {
              "outlinewidth": 0,
              "ticks": ""
             }
            },
            "type": "scattermapbox"
           }
          ],
          "scatterpolar": [
           {
            "marker": {
             "colorbar": {
              "outlinewidth": 0,
              "ticks": ""
             }
            },
            "type": "scatterpolar"
           }
          ],
          "scatterpolargl": [
           {
            "marker": {
             "colorbar": {
              "outlinewidth": 0,
              "ticks": ""
             }
            },
            "type": "scatterpolargl"
           }
          ],
          "scatterternary": [
           {
            "marker": {
             "colorbar": {
              "outlinewidth": 0,
              "ticks": ""
             }
            },
            "type": "scatterternary"
           }
          ],
          "surface": [
           {
            "colorbar": {
             "outlinewidth": 0,
             "ticks": ""
            },
            "colorscale": [
             [
              0,
              "#0d0887"
             ],
             [
              0.1111111111111111,
              "#46039f"
             ],
             [
              0.2222222222222222,
              "#7201a8"
             ],
             [
              0.3333333333333333,
              "#9c179e"
             ],
             [
              0.4444444444444444,
              "#bd3786"
             ],
             [
              0.5555555555555556,
              "#d8576b"
             ],
             [
              0.6666666666666666,
              "#ed7953"
             ],
             [
              0.7777777777777778,
              "#fb9f3a"
             ],
             [
              0.8888888888888888,
              "#fdca26"
             ],
             [
              1,
              "#f0f921"
             ]
            ],
            "type": "surface"
           }
          ],
          "table": [
           {
            "cells": {
             "fill": {
              "color": "#EBF0F8"
             },
             "line": {
              "color": "white"
             }
            },
            "header": {
             "fill": {
              "color": "#C8D4E3"
             },
             "line": {
              "color": "white"
             }
            },
            "type": "table"
           }
          ]
         },
         "layout": {
          "annotationdefaults": {
           "arrowcolor": "#2a3f5f",
           "arrowhead": 0,
           "arrowwidth": 1
          },
          "autotypenumbers": "strict",
          "coloraxis": {
           "colorbar": {
            "outlinewidth": 0,
            "ticks": ""
           }
          },
          "colorscale": {
           "diverging": [
            [
             0,
             "#8e0152"
            ],
            [
             0.1,
             "#c51b7d"
            ],
            [
             0.2,
             "#de77ae"
            ],
            [
             0.3,
             "#f1b6da"
            ],
            [
             0.4,
             "#fde0ef"
            ],
            [
             0.5,
             "#f7f7f7"
            ],
            [
             0.6,
             "#e6f5d0"
            ],
            [
             0.7,
             "#b8e186"
            ],
            [
             0.8,
             "#7fbc41"
            ],
            [
             0.9,
             "#4d9221"
            ],
            [
             1,
             "#276419"
            ]
           ],
           "sequential": [
            [
             0,
             "#0d0887"
            ],
            [
             0.1111111111111111,
             "#46039f"
            ],
            [
             0.2222222222222222,
             "#7201a8"
            ],
            [
             0.3333333333333333,
             "#9c179e"
            ],
            [
             0.4444444444444444,
             "#bd3786"
            ],
            [
             0.5555555555555556,
             "#d8576b"
            ],
            [
             0.6666666666666666,
             "#ed7953"
            ],
            [
             0.7777777777777778,
             "#fb9f3a"
            ],
            [
             0.8888888888888888,
             "#fdca26"
            ],
            [
             1,
             "#f0f921"
            ]
           ],
           "sequentialminus": [
            [
             0,
             "#0d0887"
            ],
            [
             0.1111111111111111,
             "#46039f"
            ],
            [
             0.2222222222222222,
             "#7201a8"
            ],
            [
             0.3333333333333333,
             "#9c179e"
            ],
            [
             0.4444444444444444,
             "#bd3786"
            ],
            [
             0.5555555555555556,
             "#d8576b"
            ],
            [
             0.6666666666666666,
             "#ed7953"
            ],
            [
             0.7777777777777778,
             "#fb9f3a"
            ],
            [
             0.8888888888888888,
             "#fdca26"
            ],
            [
             1,
             "#f0f921"
            ]
           ]
          },
          "colorway": [
           "#636efa",
           "#EF553B",
           "#00cc96",
           "#ab63fa",
           "#FFA15A",
           "#19d3f3",
           "#FF6692",
           "#B6E880",
           "#FF97FF",
           "#FECB52"
          ],
          "font": {
           "color": "#2a3f5f"
          },
          "geo": {
           "bgcolor": "white",
           "lakecolor": "white",
           "landcolor": "#E5ECF6",
           "showlakes": true,
           "showland": true,
           "subunitcolor": "white"
          },
          "hoverlabel": {
           "align": "left"
          },
          "hovermode": "closest",
          "mapbox": {
           "style": "light"
          },
          "paper_bgcolor": "white",
          "plot_bgcolor": "#E5ECF6",
          "polar": {
           "angularaxis": {
            "gridcolor": "white",
            "linecolor": "white",
            "ticks": ""
           },
           "bgcolor": "#E5ECF6",
           "radialaxis": {
            "gridcolor": "white",
            "linecolor": "white",
            "ticks": ""
           }
          },
          "scene": {
           "xaxis": {
            "backgroundcolor": "#E5ECF6",
            "gridcolor": "white",
            "gridwidth": 2,
            "linecolor": "white",
            "showbackground": true,
            "ticks": "",
            "zerolinecolor": "white"
           },
           "yaxis": {
            "backgroundcolor": "#E5ECF6",
            "gridcolor": "white",
            "gridwidth": 2,
            "linecolor": "white",
            "showbackground": true,
            "ticks": "",
            "zerolinecolor": "white"
           },
           "zaxis": {
            "backgroundcolor": "#E5ECF6",
            "gridcolor": "white",
            "gridwidth": 2,
            "linecolor": "white",
            "showbackground": true,
            "ticks": "",
            "zerolinecolor": "white"
           }
          },
          "shapedefaults": {
           "line": {
            "color": "#2a3f5f"
           }
          },
          "ternary": {
           "aaxis": {
            "gridcolor": "white",
            "linecolor": "white",
            "ticks": ""
           },
           "baxis": {
            "gridcolor": "white",
            "linecolor": "white",
            "ticks": ""
           },
           "bgcolor": "#E5ECF6",
           "caxis": {
            "gridcolor": "white",
            "linecolor": "white",
            "ticks": ""
           }
          },
          "title": {
           "x": 0.05
          },
          "xaxis": {
           "automargin": true,
           "gridcolor": "white",
           "linecolor": "white",
           "ticks": "",
           "title": {
            "standoff": 15
           },
           "zerolinecolor": "white",
           "zerolinewidth": 2
          },
          "yaxis": {
           "automargin": true,
           "gridcolor": "white",
           "linecolor": "white",
           "ticks": "",
           "title": {
            "standoff": 15
           },
           "zerolinecolor": "white",
           "zerolinewidth": 2
          }
         }
        },
        "title": {
         "text": "Prices of Items Over the Past Few Months"
        },
        "xaxis": {
         "title": {
          "text": "Month"
         }
        },
        "yaxis": {
         "title": {
          "text": "Price"
         }
        }
       }
      }
     },
     "metadata": {},
     "output_type": "display_data"
    }
   ],
   "source": [
    "fig.show()"
   ]
  },
  {
   "cell_type": "markdown",
   "metadata": {},
   "source": [
    "# Table View\n",
    "\n",
    "To recreate the table view for the monthly / weekly breakdown for the last n (fixed at n=4) months. \n",
    "\n",
    "Instead of sparklines will use streamlit's inbuilt [`column_config`](https://docs.streamlit.io/library/api-reference/data/st.column_config/st.column_config.barchartcolumn) utility to mimic the chart behaviour. \n",
    "\n",
    "This requires creating an additional column where each element is a list of amount spend for that `Type` (row) for the last n months. "
   ]
  },
  {
   "cell_type": "code",
   "execution_count": 47,
   "metadata": {},
   "outputs": [],
   "source": [
    "# How many months to take\n",
    "n_months = 4\n",
    "# What columns to use\n",
    "columns = ['month', 'Type', 'Subtype', 'Amount']\n",
    "# Get the first day of the current month\n",
    "current_month = datetime.date.today().replace(day=1)\n",
    "# Get the first day of the month for the last n months (this month included)\n",
    "last_n_months = list(map(lambda x: (current_month-relativedelta(months=x)), range(0, n_months)))\n",
    "# Get the relevant entries (entries in the last n_months)\n",
    "n_months_df=df.loc[df.month.isin(last_n_months), columns].copy()"
   ]
  },
  {
   "cell_type": "code",
   "execution_count": 59,
   "metadata": {},
   "outputs": [],
   "source": [
    "# Perform Aggregation\n",
    "tdf = n_months_df.groupby(['month', 'Type']).agg(\n",
    "    total = pd.NamedAgg(column='Amount', aggfunc='sum')\n",
    ")\n",
    "\n",
    "# Need to do this to always ensure the months are in ascending order, and the order of appearance of the types are standardized\n",
    "tdf = tdf.sort_index(level=0, ascending=True)#.unstack(level=0)\n",
    "# Reformat the months. Need to change it back to a column first otherwise it will be an 'object' when used as an index. Can try changing it to a dateTimeIndex in the future\n",
    "tdf = tdf.reset_index(\"month\")\n",
    "# Re-format to show only the month and year (both abbreviated)\n",
    "tdf.month = tdf.month.dt.strftime(\"%b \\'%y\")\n",
    "# Add the correctly formatted month column back as an index\n",
    "tdf=tdf.set_index(['month'], append=True)\n",
    "# Pivot\n",
    "tdf = tdf.unstack(-1)"
   ]
  },
  {
   "cell_type": "code",
   "execution_count": 60,
   "metadata": {},
   "outputs": [],
   "source": [
    "# Collapse the multi column-index\n",
    "tdf.columns =  [col[1] for col in tdf.columns.values]\n",
    "# Crate list of values\n",
    "tdf['temp']=tdf[list(tdf.columns)].values.tolist()"
   ]
  },
  {
   "cell_type": "code",
   "execution_count": 61,
   "metadata": {},
   "outputs": [
    {
     "data": {
      "text/html": [
       "<div>\n",
       "<style scoped>\n",
       "    .dataframe tbody tr th:only-of-type {\n",
       "        vertical-align: middle;\n",
       "    }\n",
       "\n",
       "    .dataframe tbody tr th {\n",
       "        vertical-align: top;\n",
       "    }\n",
       "\n",
       "    .dataframe thead th {\n",
       "        text-align: right;\n",
       "    }\n",
       "</style>\n",
       "<table border=\"1\" class=\"dataframe\">\n",
       "  <thead>\n",
       "    <tr style=\"text-align: right;\">\n",
       "      <th></th>\n",
       "      <th>Aug '23</th>\n",
       "      <th>Nov '23</th>\n",
       "      <th>Oct '23</th>\n",
       "      <th>Sep '23</th>\n",
       "      <th>temp</th>\n",
       "    </tr>\n",
       "    <tr>\n",
       "      <th>Type</th>\n",
       "      <th></th>\n",
       "      <th></th>\n",
       "      <th></th>\n",
       "      <th></th>\n",
       "      <th></th>\n",
       "    </tr>\n",
       "  </thead>\n",
       "  <tbody>\n",
       "    <tr>\n",
       "      <th>Dining</th>\n",
       "      <td>637.36</td>\n",
       "      <td>817.96</td>\n",
       "      <td>835.62</td>\n",
       "      <td>555.09</td>\n",
       "      <td>[637.36, 817.9599999999999, 835.62, 555.09]</td>\n",
       "    </tr>\n",
       "    <tr>\n",
       "      <th>Healthcare</th>\n",
       "      <td>74.75</td>\n",
       "      <td>37.40</td>\n",
       "      <td>14.00</td>\n",
       "      <td>62.25</td>\n",
       "      <td>[74.75, 37.4, 14.0, 62.25]</td>\n",
       "    </tr>\n",
       "    <tr>\n",
       "      <th>Leisure</th>\n",
       "      <td>30.27</td>\n",
       "      <td>37.16</td>\n",
       "      <td>115.00</td>\n",
       "      <td>23.00</td>\n",
       "      <td>[30.27, 37.16, 115.0, 23.0]</td>\n",
       "    </tr>\n",
       "    <tr>\n",
       "      <th>Shopping</th>\n",
       "      <td>303.60</td>\n",
       "      <td>213.75</td>\n",
       "      <td>663.81</td>\n",
       "      <td>598.66</td>\n",
       "      <td>[303.6, 213.75, 663.81, 598.66]</td>\n",
       "    </tr>\n",
       "    <tr>\n",
       "      <th>Transport</th>\n",
       "      <td>198.77</td>\n",
       "      <td>NaN</td>\n",
       "      <td>29.22</td>\n",
       "      <td>195.99</td>\n",
       "      <td>[198.77, nan, 29.22, 195.99]</td>\n",
       "    </tr>\n",
       "    <tr>\n",
       "      <th>Travel</th>\n",
       "      <td>NaN</td>\n",
       "      <td>NaN</td>\n",
       "      <td>476.70</td>\n",
       "      <td>NaN</td>\n",
       "      <td>[nan, nan, 476.7, nan]</td>\n",
       "    </tr>\n",
       "  </tbody>\n",
       "</table>\n",
       "</div>"
      ],
      "text/plain": [
       "            Aug '23  Nov '23  Oct '23  Sep '23  \\\n",
       "Type                                             \n",
       "Dining       637.36   817.96   835.62   555.09   \n",
       "Healthcare    74.75    37.40    14.00    62.25   \n",
       "Leisure       30.27    37.16   115.00    23.00   \n",
       "Shopping     303.60   213.75   663.81   598.66   \n",
       "Transport    198.77      NaN    29.22   195.99   \n",
       "Travel          NaN      NaN   476.70      NaN   \n",
       "\n",
       "                                                   temp  \n",
       "Type                                                     \n",
       "Dining      [637.36, 817.9599999999999, 835.62, 555.09]  \n",
       "Healthcare                   [74.75, 37.4, 14.0, 62.25]  \n",
       "Leisure                     [30.27, 37.16, 115.0, 23.0]  \n",
       "Shopping                [303.6, 213.75, 663.81, 598.66]  \n",
       "Transport                  [198.77, nan, 29.22, 195.99]  \n",
       "Travel                           [nan, nan, 476.7, nan]  "
      ]
     },
     "execution_count": 61,
     "metadata": {},
     "output_type": "execute_result"
    }
   ],
   "source": [
    "tdf"
   ]
  },
  {
   "cell_type": "code",
   "execution_count": null,
   "metadata": {},
   "outputs": [],
   "source": []
  },
  {
   "cell_type": "code",
   "execution_count": null,
   "metadata": {},
   "outputs": [],
   "source": []
  },
  {
   "cell_type": "markdown",
   "metadata": {},
   "source": [
    "# Calendar Plot\n",
    "\n",
    "[Plotly API reference](https://plotly.com/python/heatmaps/#:~:text=12-,Heatmap%20with%20Datetime%20Axis,-import%20plotly.graph_objects)\n",
    "\n",
    "[Existing package](https://github.com/brunorosilva/plotly-calplot)"
   ]
  },
  {
   "cell_type": "code",
   "execution_count": null,
   "metadata": {},
   "outputs": [],
   "source": []
  }
 ],
 "metadata": {
  "kernelspec": {
   "display_name": "ds_py3.9",
   "language": "python",
   "name": "python3"
  },
  "language_info": {
   "codemirror_mode": {
    "name": "ipython",
    "version": 3
   },
   "file_extension": ".py",
   "mimetype": "text/x-python",
   "name": "python",
   "nbconvert_exporter": "python",
   "pygments_lexer": "ipython3",
   "version": "3.9.11"
  }
 },
 "nbformat": 4,
 "nbformat_minor": 2
}
