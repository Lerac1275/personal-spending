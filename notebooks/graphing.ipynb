{
 "cells": [
  {
   "cell_type": "code",
   "execution_count": 9,
   "metadata": {},
   "outputs": [],
   "source": [
    "import pandas as pd\n",
    "import plotly.express as px\n",
    "import plotly.graph_objects as go\n",
    "import importlib\n",
    "import sys"
   ]
  },
  {
   "cell_type": "code",
   "execution_count": 6,
   "metadata": {},
   "outputs": [],
   "source": [
    "if \"../\" not in sys.path:\n",
    "    sys.path.append(\"../\")\n",
    "import appUtilities as au"
   ]
  },
  {
   "cell_type": "code",
   "execution_count": 7,
   "metadata": {},
   "outputs": [],
   "source": [
    "df = pd.read_pickle('../data/sample_data.pkl')\n",
    "df.Date=pd.to_datetime(df.Date)"
   ]
  },
  {
   "cell_type": "code",
   "execution_count": 8,
   "metadata": {},
   "outputs": [
    {
     "data": {
      "text/html": [
       "<div>\n",
       "<style scoped>\n",
       "    .dataframe tbody tr th:only-of-type {\n",
       "        vertical-align: middle;\n",
       "    }\n",
       "\n",
       "    .dataframe tbody tr th {\n",
       "        vertical-align: top;\n",
       "    }\n",
       "\n",
       "    .dataframe thead th {\n",
       "        text-align: right;\n",
       "    }\n",
       "</style>\n",
       "<table border=\"1\" class=\"dataframe\">\n",
       "  <thead>\n",
       "    <tr style=\"text-align: right;\">\n",
       "      <th></th>\n",
       "      <th>Date</th>\n",
       "      <th>Item</th>\n",
       "      <th>Type</th>\n",
       "      <th>Subtype</th>\n",
       "      <th>Location</th>\n",
       "      <th>Payment Method</th>\n",
       "      <th>Amount</th>\n",
       "      <th>ShopBack?</th>\n",
       "      <th>Notes</th>\n",
       "    </tr>\n",
       "  </thead>\n",
       "  <tbody>\n",
       "    <tr>\n",
       "      <th>0</th>\n",
       "      <td>2023-03-17</td>\n",
       "      <td>Prawn Noodles</td>\n",
       "      <td>Dining</td>\n",
       "      <td>Lunch</td>\n",
       "      <td>Work</td>\n",
       "      <td>PayLah</td>\n",
       "      <td>7.5</td>\n",
       "      <td>No</td>\n",
       "      <td>NaN</td>\n",
       "    </tr>\n",
       "    <tr>\n",
       "      <th>1</th>\n",
       "      <td>2023-03-17</td>\n",
       "      <td>Poke Bowl</td>\n",
       "      <td>Dining</td>\n",
       "      <td>Dinner</td>\n",
       "      <td>Novena</td>\n",
       "      <td>GrabPay</td>\n",
       "      <td>14.5</td>\n",
       "      <td>Yes</td>\n",
       "      <td>NaN</td>\n",
       "    </tr>\n",
       "    <tr>\n",
       "      <th>2</th>\n",
       "      <td>2023-03-17</td>\n",
       "      <td>Bread</td>\n",
       "      <td>Dining</td>\n",
       "      <td>Breakfast</td>\n",
       "      <td>Barcook</td>\n",
       "      <td>PayLah</td>\n",
       "      <td>3.0</td>\n",
       "      <td>No</td>\n",
       "      <td>NaN</td>\n",
       "    </tr>\n",
       "    <tr>\n",
       "      <th>3</th>\n",
       "      <td>2023-03-18</td>\n",
       "      <td>Car Wash</td>\n",
       "      <td>Transport</td>\n",
       "      <td>Private Transport</td>\n",
       "      <td>SPC Novena</td>\n",
       "      <td>Cash</td>\n",
       "      <td>12.0</td>\n",
       "      <td>No</td>\n",
       "      <td>NaN</td>\n",
       "    </tr>\n",
       "    <tr>\n",
       "      <th>4</th>\n",
       "      <td>2023-03-18</td>\n",
       "      <td>Thunder Tea Rice</td>\n",
       "      <td>Dining</td>\n",
       "      <td>Lunch</td>\n",
       "      <td>Vivo</td>\n",
       "      <td>GrabPay</td>\n",
       "      <td>16.0</td>\n",
       "      <td>Yes</td>\n",
       "      <td>YZ</td>\n",
       "    </tr>\n",
       "  </tbody>\n",
       "</table>\n",
       "</div>"
      ],
      "text/plain": [
       "        Date              Item       Type            Subtype    Location  \\\n",
       "0 2023-03-17     Prawn Noodles     Dining              Lunch        Work   \n",
       "1 2023-03-17         Poke Bowl     Dining             Dinner      Novena   \n",
       "2 2023-03-17             Bread     Dining          Breakfast     Barcook   \n",
       "3 2023-03-18          Car Wash  Transport  Private Transport  SPC Novena   \n",
       "4 2023-03-18  Thunder Tea Rice     Dining              Lunch        Vivo   \n",
       "\n",
       "  Payment Method  Amount ShopBack? Notes  \n",
       "0         PayLah     7.5        No   NaN  \n",
       "1        GrabPay    14.5       Yes   NaN  \n",
       "2         PayLah     3.0        No   NaN  \n",
       "3           Cash    12.0        No   NaN  \n",
       "4        GrabPay    16.0       Yes    YZ  "
      ]
     },
     "execution_count": 8,
     "metadata": {},
     "output_type": "execute_result"
    }
   ],
   "source": [
    "df.head()"
   ]
  },
  {
   "cell_type": "code",
   "execution_count": null,
   "metadata": {},
   "outputs": [],
   "source": []
  }
 ],
 "metadata": {
  "kernelspec": {
   "display_name": "ds_py3.9",
   "language": "python",
   "name": "python3"
  },
  "language_info": {
   "codemirror_mode": {
    "name": "ipython",
    "version": 3
   },
   "file_extension": ".py",
   "mimetype": "text/x-python",
   "name": "python",
   "nbconvert_exporter": "python",
   "pygments_lexer": "ipython3",
   "version": "3.9.11"
  }
 },
 "nbformat": 4,
 "nbformat_minor": 2
}
